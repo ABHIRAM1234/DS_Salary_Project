{
 "cells": [
  {
   "cell_type": "code",
   "execution_count": 1,
   "metadata": {},
   "outputs": [],
   "source": [
    "import pandas as pd \n",
    "import matplotlib.pyplot as plt \n",
    "import numpy as np \n",
    "from sklearn.model_selection import train_test_split\n",
    "from sklearn.linear_model import LinearRegression, Lasso, Ridge\n",
    "from sklearn.ensemble import RandomForestRegressor\n",
    "from xgboost import XGBRegressor\n",
    "from sklearn.metrics import mean_absolute_error, mean_squared_error, r2_score\n",
    "from sklearn.model_selection import GridSearchCV\n",
    "import statsmodels.api as sm\n",
    "\n",
    "pd.set_option('display.max_columns', None)\n",
    "\n"
   ]
  },
  {
   "cell_type": "code",
   "execution_count": 2,
   "metadata": {},
   "outputs": [],
   "source": [
    "df = pd.read_csv(r'C:\\Users\\abhir\\Projects\\DS_Salary_Project\\eda_data.csv')\n",
    "\n",
    "# choose relevant columns \n",
    "df_model = df[['Rating', 'Size', 'Type of ownership', 'Industry', 'Sector', 'Revenue', \n",
    "               'hourly', 'employer_provided', 'job_state', 'same_state', 'age', 'python_yn',\n",
    "               'R_yn', 'spark', 'aws','excel', 'job_simple', 'seniority', 'desc_len', \n",
    "               'num_competitors', 'avg_salary']]\n",
    "\n",
    "# get dummy data \n",
    "df_dum = pd.get_dummies(df_model)"
   ]
  },
  {
   "cell_type": "code",
   "execution_count": 3,
   "metadata": {},
   "outputs": [],
   "source": [
    "X = df_dum.drop('avg_salary', axis =1)\n",
    "y = df_dum.avg_salary.values\n",
    "\n",
    "X_train, X_test, y_train, y_test = train_test_split(X, y, test_size=0.2, random_state=42)"
   ]
  },
  {
   "cell_type": "code",
   "execution_count": 4,
   "metadata": {},
   "outputs": [],
   "source": [
    "from sklearn.preprocessing import StandardScaler\n",
    "\n",
    "# Scale the features\n",
    "scaler = StandardScaler()\n",
    "X_train_scaled = scaler.fit_transform(X_train)\n",
    "X_test_scaled = scaler.transform(X_test)\n",
    "\n",
    "# Use X_train_scaled and X_test_scaled in your models instead of X_train and X_test\n"
   ]
  },
  {
   "cell_type": "code",
   "execution_count": null,
   "metadata": {},
   "outputs": [],
   "source": [
    "# multiple linear regression using OLS\n",
    "# Prepare data for statsmodels\n",
    "X_train_sm = sm.add_constant(X_train_scaled)  # Add constant for intercept\n",
    "X_train_sm = X_train_sm.astype(float)   # Ensure float type\n",
    "y_train = y_train.astype(float)          # Ensure float type\n",
    "\n",
    "# Fit the model\n",
    "model = sm.OLS(y_train, X_train_sm).fit()\n",
    "\n",
    "# Print summary of the model\n",
    "print(model.summary())\n"
   ]
  },
  {
   "cell_type": "code",
   "execution_count": 5,
   "metadata": {},
   "outputs": [
    {
     "name": "stderr",
     "output_type": "stream",
     "text": [
      "C:\\Users\\abhir\\AppData\\Local\\Temp\\ipykernel_39924\\1780975168.py:10: FutureWarning: The behavior of DataFrame concatenation with empty or all-NA entries is deprecated. In a future version, this will no longer exclude empty or all-NA columns when determining the result dtypes. To retain the old behavior, exclude the relevant entries before the concat operation.\n",
      "  results = pd.concat([results, pd.DataFrame([{\n"
     ]
    }
   ],
   "source": [
    "# Initialize a DataFrame to store the results\n",
    "results = pd.DataFrame(columns=['Model', 'MAE', 'MSE', 'RMSE', 'R-squared'])\n",
    "\n",
    "# Multiple Linear Regression\n",
    "lm = LinearRegression()\n",
    "lm.fit(X_train_scaled, y_train)\n",
    "y_pred = lm.predict(X_test_scaled)\n",
    "\n",
    "# Evaluate\n",
    "results = pd.concat([results, pd.DataFrame([{\n",
    "    'Model': 'Linear Regression',\n",
    "    'MAE': mean_absolute_error(y_test, y_pred),\n",
    "    'MSE': mean_squared_error(y_test, y_pred),\n",
    "    'RMSE': np.sqrt(mean_squared_error(y_test, y_pred)),\n",
    "    'R-squared': r2_score(y_test, y_pred)\n",
    "}])], ignore_index=True)\n"
   ]
  },
  {
   "cell_type": "code",
   "execution_count": 7,
   "metadata": {},
   "outputs": [],
   "source": [
    "# Lasso Regression\n",
    "lasso = Lasso()\n",
    "param_grid = {'alpha': [0.09, 0.1, 0.11, 0.12, 0.13]}\n",
    "grid_search = GridSearchCV(estimator=lasso, param_grid=param_grid, cv=5, scoring='neg_mean_squared_error')\n",
    "grid_search.fit(X_train_scaled, y_train)\n",
    "\n",
    "best_lasso = grid_search.best_estimator_\n",
    "y_pred_lasso = best_lasso.predict(X_test_scaled)\n",
    "\n",
    "results = pd.concat([results, pd.DataFrame([{\n",
    "    'Model': 'Lasso',\n",
    "    'MAE': mean_absolute_error(y_test, y_pred_lasso),\n",
    "    'MSE': mean_squared_error(y_test, y_pred_lasso),\n",
    "    'RMSE': np.sqrt(mean_squared_error(y_test, y_pred_lasso)),\n",
    "    'R-squared': r2_score(y_test, y_pred_lasso)\n",
    "}])], ignore_index=True)\n"
   ]
  },
  {
   "cell_type": "code",
   "execution_count": 8,
   "metadata": {},
   "outputs": [],
   "source": [
    "# Ridge Regression\n",
    "ridge = Ridge()\n",
    "ridge.fit(X_train_scaled, y_train)\n",
    "y_pred_ridge = ridge.predict(X_test_scaled)\n",
    "\n",
    "results = pd.concat([results, pd.DataFrame([{\n",
    "    'Model': 'Ridge',\n",
    "    'MAE': mean_absolute_error(y_test, y_pred_ridge),\n",
    "    'MSE': mean_squared_error(y_test, y_pred_ridge),\n",
    "    'RMSE': np.sqrt(mean_squared_error(y_test, y_pred_ridge)),\n",
    "    'R-squared': r2_score(y_test, y_pred_ridge)\n",
    "}])], ignore_index=True)\n"
   ]
  },
  {
   "cell_type": "code",
   "execution_count": 9,
   "metadata": {},
   "outputs": [
    {
     "name": "stdout",
     "output_type": "stream",
     "text": [
      "Fitting 5 folds for each of 108 candidates, totalling 540 fits\n"
     ]
    }
   ],
   "source": [
    "# Random Forest Regression\n",
    "rf = RandomForestRegressor(random_state=42)\n",
    "param_grid_rf = {\n",
    "    'n_estimators': [100, 200],\n",
    "    'max_depth': [10, 20, None],\n",
    "    'min_samples_split': [2, 5, 10],\n",
    "    'min_samples_leaf': [1, 2, 4],\n",
    "    'bootstrap': [True, False]\n",
    "}\n",
    "\n",
    "grid_search_rf = GridSearchCV(estimator=rf, param_grid=param_grid_rf, cv=5, n_jobs=-1, verbose=2)\n",
    "grid_search_rf.fit(X_train_scaled, y_train)\n",
    "\n",
    "y_pred_rf = grid_search_rf.best_estimator_.predict(X_test_scaled)\n",
    "\n",
    "results = pd.concat([results, pd.DataFrame([{\n",
    "    'Model': 'Random Forest',\n",
    "    'MAE': mean_absolute_error(y_test, y_pred_rf),\n",
    "    'MSE': mean_squared_error(y_test, y_pred_rf),\n",
    "    'RMSE': np.sqrt(mean_squared_error(y_test, y_pred_rf)),\n",
    "    'R-squared': r2_score(y_test, y_pred_rf)\n",
    "}])], ignore_index=True)\n"
   ]
  },
  {
   "cell_type": "code",
   "execution_count": 10,
   "metadata": {},
   "outputs": [],
   "source": [
    "# XGBoost Regression\n",
    "xgb = XGBRegressor(random_state=42)\n",
    "xgb.fit(X_train_scaled, y_train)\n",
    "y_pred_xgb = xgb.predict(X_test_scaled)\n",
    "\n",
    "results = pd.concat([results, pd.DataFrame([{\n",
    "    'Model': 'XGBoost',\n",
    "    'MAE': mean_absolute_error(y_test, y_pred_xgb),\n",
    "    'MSE': mean_squared_error(y_test, y_pred_xgb),\n",
    "    'RMSE': np.sqrt(mean_squared_error(y_test, y_pred_xgb)),\n",
    "    'R-squared': r2_score(y_test, y_pred_xgb)\n",
    "}])], ignore_index=True)\n"
   ]
  },
  {
   "cell_type": "code",
   "execution_count": 11,
   "metadata": {},
   "outputs": [
    {
     "name": "stdout",
     "output_type": "stream",
     "text": [
      "               Model           MAE           MSE          RMSE     R-squared\n",
      "0  Linear Regression  1.344454e+13  1.952222e+28  1.397219e+14 -1.194377e+25\n",
      "1              Lasso  1.828166e+01  6.462555e+02  2.542156e+01  6.046185e-01\n",
      "2              Ridge  1.914069e+01  7.120206e+02  2.668371e+01  5.643831e-01\n",
      "3      Random Forest  1.102117e+01  3.420071e+02  1.849343e+01  7.907588e-01\n",
      "4            XGBoost  9.008133e+00  3.449503e+02  1.857284e+01  7.889581e-01\n"
     ]
    }
   ],
   "source": [
    "# Print results\n",
    "print(results)\n"
   ]
  },
  {
   "cell_type": "code",
   "execution_count": null,
   "metadata": {},
   "outputs": [],
   "source": []
  },
  {
   "cell_type": "code",
   "execution_count": null,
   "metadata": {},
   "outputs": [],
   "source": []
  }
 ],
 "metadata": {
  "kernelspec": {
   "display_name": "base",
   "language": "python",
   "name": "python3"
  },
  "language_info": {
   "codemirror_mode": {
    "name": "ipython",
    "version": 3
   },
   "file_extension": ".py",
   "mimetype": "text/x-python",
   "name": "python",
   "nbconvert_exporter": "python",
   "pygments_lexer": "ipython3",
   "version": "3.12.4"
  }
 },
 "nbformat": 4,
 "nbformat_minor": 2
}
